{
 "cells": [
  {
   "cell_type": "code",
   "execution_count": 1,
   "metadata": {
    "collapsed": true
   },
   "outputs": [],
   "source": [
    "import numpy as np\n",
    "from scipy import linalg\n",
    "import os\n",
    "import re\n",
    "import linecache\n",
    "import sys\n",
    "\n",
    "import copy\n",
    "\n",
    "import ase.io\n",
    "\n",
    "import cPickle as pickle\n",
    "\n",
    "from VASP_common_utilites import *\n",
    "from nearest_neighbours_A_B import *\n",
    "from parse_outcar import *\n",
    "from helpers import *"
   ]
  },
  {
   "cell_type": "code",
   "execution_count": 2,
   "metadata": {},
   "outputs": [
    {
     "data": {
      "text/html": [
       "<style>.container { width:100% !important; }</style>"
      ],
      "text/plain": [
       "<IPython.core.display.HTML object>"
      ]
     },
     "metadata": {},
     "output_type": "display_data"
    }
   ],
   "source": [
    "from IPython.core.display import display, HTML\n",
    "display(HTML(\"<style>.container { width:100% !important; }</style>\"))"
   ]
  },
  {
   "cell_type": "code",
   "execution_count": 3,
   "metadata": {
    "collapsed": true
   },
   "outputs": [],
   "source": [
    "# original cell\n",
    "poscar_name = 'POSCAR_skip_85'\n",
    "poscar = ase.io.read(poscar_name)\n",
    "init_pos_d = poscar.get_scaled_positions()\n",
    "init_pos_c = poscar.get_positions()\n",
    "init_latt = poscar.get_cell()\n",
    "NumAtoms, AtomsLbls = parse_poscar(poscar_name)"
   ]
  },
  {
   "cell_type": "code",
   "execution_count": 4,
   "metadata": {},
   "outputs": [
    {
     "name": "stdout",
     "output_type": "stream",
     "text": [
      "Read saved data\n",
      "Done\n",
      "[============================================================] 100.0% ...\r"
     ]
    }
   ],
   "source": [
    "# parse OUTCAR to extract later the snapshots\n",
    "outcar_name = 'OUTCAR'\n",
    "outcar = OUTCAR(o_name=outcar_name,p_name=poscar_name,system_name='NH4BH4',reparse=False)\n",
    "# unwrap PBC\n",
    "positions_direct_MD_uPBC = outcar.unwrap_PBC()"
   ]
  },
  {
   "cell_type": "code",
   "execution_count": 5,
   "metadata": {},
   "outputs": [
    {
     "name": "stdout",
     "output_type": "stream",
     "text": [
      "\n",
      "\n",
      "[============================================================] 100.0% ...\n",
      "\n",
      "\n",
      "\n",
      "[============================================================] 100.0% ...\n",
      "\n",
      "\n",
      "\n",
      "[============================================================] 100.0% ...\n",
      "\n"
     ]
    }
   ],
   "source": [
    "# extract direct coordinates of the N, B, and H atoms\n",
    "pos_N = outcar.get_direct_uPBC_3d(0)\n",
    "pos_B = outcar.get_direct_uPBC_3d(1)\n",
    "pos_H = outcar.get_direct_uPBC_3d(2)"
   ]
  },
  {
   "cell_type": "code",
   "execution_count": 6,
   "metadata": {},
   "outputs": [],
   "source": [
    "# extract indexes of atoms in the SC (based on initial positions)\n",
    "# an array with dimenstions if the SC is needed:\n",
    "Nxyz = np.array([2,2,2])\n",
    "init_N_d = init_pos_d[0:NumAtoms[0],:]\n",
    "init_B_d = init_pos_d[NumAtoms[0]:NumAtoms[0:2].sum(),:]\n",
    "N_UC_dict, N_UC_disp = exctrac_UC_coordinates_from_SC(init_N_d,Nxyz)\n",
    "B_UC_dict, B_UC_disp = exctrac_UC_coordinates_from_SC(init_B_d,Nxyz)"
   ]
  },
  {
   "cell_type": "code",
   "execution_count": 7,
   "metadata": {},
   "outputs": [],
   "source": [
    "# how mane steps to skip to account for equilibration\n",
    "steps2skip = 3000\n",
    "# total number of steps\n",
    "total_num_steps = positions_direct_MD_uPBC.shape[0] / NumAtoms.sum()\n",
    "# make array with step indeces to extract\n",
    "step_distance = 200\n",
    "steps = np.arange(steps2skip,total_num_steps,step_distance, dtype=int)"
   ]
  },
  {
   "cell_type": "code",
   "execution_count": 8,
   "metadata": {},
   "outputs": [],
   "source": [
    "# scale the SC lattice to the UC\n",
    "new_lattice_UC = np.zeros(outcar.lattice[:,:,0].shape)\n",
    "for i in range(3):\n",
    "    new_lattice_UC[:,i] = outcar.lattice[:,:,0][:,i] / Nxyz[i]"
   ]
  },
  {
   "cell_type": "code",
   "execution_count": 9,
   "metadata": {},
   "outputs": [],
   "source": [
    "# set selective dynamics with first \"immobile_num\" atoms to be fixed\n",
    "coord_line_idx = 8\n",
    "immobile_num = 8\n",
    "# make a folder to keep all the extracted SCs\n",
    "cwd = os.getcwd()\n",
    "try:\n",
    "    os.mkdir(cwd + '/EXTRACTED_UCs')\n",
    "except:\n",
    "    pass\n",
    "main_path = cwd + '/EXTRACTED_UCs'\n",
    "# parameters to extract the complexes\n",
    "min_NH = 0.1\n",
    "max_NH = 1.7\n",
    "ligand_num = 4\n",
    "# get initial N and B positions\n",
    "init_N_c = init_pos_c[0:NumAtoms[0],:]\n",
    "init_B_c = init_pos_c[NumAtoms[0]:NumAtoms[0:2].sum(),:]\n",
    "for idx in range(steps.shape[0]):\n",
    "    step = steps[idx]\n",
    "    N_direct_step = pos_N[step,:,:].T\n",
    "    B_direct_step = pos_B[step,:,:].T\n",
    "    H_direct_step = pos_H[step,:,:].T    \n",
    "    # make a dedicated folder for the step:\n",
    "    try:\n",
    "        os.mkdir(main_path + '/' + str(step))\n",
    "    except:\n",
    "        pass\n",
    "    dst = main_path + '/' + str(step)\n",
    "    for SC_key in N_UC_dict.keys():\n",
    "        # indeces:\n",
    "        N_UC_idx = N_UC_dict[SC_key]\n",
    "        B_UC_idx = B_UC_dict[SC_key]\n",
    "        # the UC position in the SC\n",
    "        dUC_N = N_UC_disp[SC_key]\n",
    "        dUC_B = B_UC_disp[SC_key]\n",
    "        # bond and other stuff dicts\n",
    "        new_NH = find_all_neighbours(N_direct_step,H_direct_step,outcar.lattice[:,:,0],min_NH,max_NH)\n",
    "        new_BH = find_all_neighbours(B_direct_step,H_direct_step,outcar.lattice[:,:,0],min_NH,max_NH)\n",
    "        # bring the UC to the origin\n",
    "        init_N_d_UC = init_N_d[N_UC_idx,:] - dUC_N\n",
    "        init_B_d_UC = init_B_d[N_UC_idx,:] - dUC_B\n",
    "        # scale then accordingly\n",
    "        for i in range(3):\n",
    "            init_N_d_UC[:,i] = init_N_d_UC[:,i] * Nxyz[i]\n",
    "            init_B_d_UC[:,i] = init_B_d_UC[:,i] * Nxyz[i]\n",
    "        # convert then into Cartesian coordinates of the new outcar.lattice:\n",
    "        N_UC_cart = frac2cart(init_N_d_UC,new_lattice_UC)\n",
    "        B_UC_cart = frac2cart(init_B_d_UC,new_lattice_UC)\n",
    "        # find coordinates of the H atoms\n",
    "        H_N_cart = extract_H_at_centers(new_NH,N_UC_idx,N_UC_cart)\n",
    "        H_B_cart = extract_H_at_centers(new_BH,B_UC_idx,B_UC_cart)\n",
    "        # append everything\n",
    "        H_cart = np.append(H_N_cart, H_B_cart, axis=0)\n",
    "        NB_cart = np.append(N_UC_cart,B_UC_cart, axis=0)\n",
    "        UC_all_atoms_cart = np.append(NB_cart,H_cart,axis=0)\n",
    "        # convert into the direct coordinates of the scaled outcar.lattice\n",
    "        UC_all_atoms_direct = cart2frac(UC_all_atoms_cart, new_lattice_UC)\n",
    "        UC_all_atoms_direct_PBC = implement_PBC(UC_all_atoms_direct)\n",
    "        # save the results:\n",
    "        system_name='4*NH4-4*BH4, unit cell ' + str(SC_key) + ' from MD snapshot at step '  + str(step)\n",
    "        fname = dst + '/' + 'POSCAR_non-selective_' + str(SC_key)\n",
    "        num_at = np.array([N_UC_cart.shape[0],B_UC_cart.shape[0],H_cart.shape[0]])\n",
    "        txt2POSCAR = mk_text_for_POSCAR(system_name,AtomsLbls,1.0,num_at)\n",
    "        write_POSCAR(fname ,UC_all_atoms_direct_PBC,new_lattice_UC,txt2POSCAR,True)\n",
    "        new_fname = dst + '/' + 'POSCAR_sel_' + str(SC_key)\n",
    "        impose_selective_dyn_on_part(fname,coord_line_idx,immobile_num,new_fname)"
   ]
  }
 ],
 "metadata": {
  "kernelspec": {
   "display_name": "Python 2",
   "language": "python",
   "name": "python2"
  },
  "language_info": {
   "codemirror_mode": {
    "name": "ipython",
    "version": 2
   },
   "file_extension": ".py",
   "mimetype": "text/x-python",
   "name": "python",
   "nbconvert_exporter": "python",
   "pygments_lexer": "ipython2",
   "version": "2.7.12"
  }
 },
 "nbformat": 4,
 "nbformat_minor": 2
}
