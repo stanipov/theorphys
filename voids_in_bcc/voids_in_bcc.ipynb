{
 "cells": [
  {
   "cell_type": "code",
   "execution_count": 2,
   "metadata": {},
   "outputs": [],
   "source": [
    "import numpy as np\n",
    "import ase.io\n",
    "from sympy.utilities.iterables import multiset_permutations\n",
    "from scipy.spatial import ConvexHull\n",
    "\n",
    "from VASP_common_utilites import *\n",
    "from voids_bcc import *"
   ]
  },
  {
   "cell_type": "code",
   "execution_count": 3,
   "metadata": {
    "collapsed": true
   },
   "outputs": [],
   "source": [
    "from sklearn.neighbors import KernelDensity\n",
    "from sklearn.model_selection import GridSearchCV"
   ]
  },
  {
   "cell_type": "code",
   "execution_count": 4,
   "metadata": {
    "collapsed": true
   },
   "outputs": [],
   "source": [
    "import matplotlib as mpl\n",
    "from matplotlib import rc\n",
    "import matplotlib.pyplot as plt\n",
    "import matplotlib.colors as colors\n",
    "import matplotlib.cm as cmx\n",
    "from matplotlib.ticker import MultipleLocator, FormatStrFormatter\n",
    "from matplotlib.ticker import AutoMinorLocator\n",
    "from matplotlib.ticker import MaxNLocator\n",
    "from matplotlib.ticker import AutoLocator"
   ]
  },
  {
   "cell_type": "code",
   "execution_count": 5,
   "metadata": {},
   "outputs": [
    {
     "data": {
      "text/html": [
       "<style>.container { width:100% !important; }</style>"
      ],
      "text/plain": [
       "<IPython.core.display.HTML object>"
      ]
     },
     "metadata": {},
     "output_type": "display_data"
    }
   ],
   "source": [
    "from IPython.core.display import display, HTML\n",
    "display(HTML(\"<style>.container { width:100% !important; }</style>\"))\n",
    "\n",
    "%config InlineBackend.figure_format = 'retina'\n",
    "%matplotlib inline"
   ]
  },
  {
   "cell_type": "code",
   "execution_count": 6,
   "metadata": {
    "collapsed": true
   },
   "outputs": [],
   "source": [
    "def best_KDE_estimator_multivar(data, kern = 'gaussian', cv_num = 10,r_tolerance=1e-8, ncpus = 8):\n",
    "    grid = GridSearchCV(KernelDensity(kernel = kern,rtol = r_tolerance), {'bandwidth': np.logspace(-3, 1, 50)}, cv= cv_num,n_jobs = ncpus)\n",
    "    grid.fit(data)\n",
    "    return grid.best_estimator_"
   ]
  },
  {
   "cell_type": "code",
   "execution_count": 7,
   "metadata": {
    "collapsed": true
   },
   "outputs": [],
   "source": [
    "# initial strucutre\n",
    "poscar_name = 'POSCAR_HEA_RND.vasp'\n",
    "# the relaxed structure\n",
    "contcar_name = 'CONTCAR'\n",
    "# the size of the SC:\n",
    "nx = 3\n",
    "ny = 4\n",
    "nz = 5"
   ]
  },
  {
   "cell_type": "code",
   "execution_count": 8,
   "metadata": {},
   "outputs": [
    {
     "name": "stdout",
     "output_type": "stream",
     "text": [
      "[==============================------------------------------] 50.0% ...\r"
     ]
    }
   ],
   "source": [
    "# init the data\n",
    "Nxyz = np.array([nx,ny,nz])\n",
    "poscar = ase.io.read(poscar_name)\n",
    "contcar = ase.io.read(contcar_name)\n",
    "#\n",
    "displacements = mk_displacements(Nxyz)\n",
    "lattice = poscar.get_cell()\n",
    "init_pos = poscar.get_scaled_positions()\n",
    "new_positions = contcar.get_scaled_positions()\n",
    "# \n",
    "pos2analyze = new_positions\n",
    "TetraVoidsDict = {}\n",
    "void_num = 0\n",
    "# initialize the objects\n",
    "for d_idx in range(displacements.shape[0]):\n",
    "    cell_disp = displacements[d_idx,:]\n",
    "    TetraVoidsDict[d_idx] = TetraVoid(cell_disp,Nxyz, lattice, init_pos)\n",
    "    void_num += TetraVoidsDict[d_idx].number_voids\n",
    "volumes = np.zeros(void_num)\n",
    "cnt = 0\n",
    "# identify the volumes in the relaxed structure\n",
    "for key in TetraVoidsDict.keys():\n",
    "    try:\n",
    "        v_d = TetraVoidsDict[key].extract_void_coordinates(pos2analyze)\n",
    "        for key_v in v_d.keys():\n",
    "            hull = ConvexHull(v_d[key_v])\n",
    "            volumes[cnt]=hull.volume\n",
    "            cnt +=1\n",
    "    except:\n",
    "        pass\n",
    "# due to methods of initialization of the voids, \"volumes\"\n",
    "# contains pairs of the same volume (within precision, of course)\n",
    "# since each void is counted twice, therefore such doublets should\n",
    "# be removed\n",
    "non_degenerate_volumes = sparse_array_for_degeneracy(volumes,degeneracy_deg=2)"
   ]
  },
  {
   "cell_type": "code",
   "execution_count": null,
   "metadata": {
    "collapsed": true
   },
   "outputs": [],
   "source": [
    "np.savetxt('Volumes_ralaxed.dat',non_degenerate_volumes,fmt = '%10.6f')"
   ]
  },
  {
   "cell_type": "code",
   "execution_count": 9,
   "metadata": {},
   "outputs": [
    {
     "name": "stdout",
     "output_type": "stream",
     "text": [
      "[==============================------------------------------] 50.0% ...\r"
     ]
    }
   ],
   "source": [
    "# identify original volume:\n",
    "init_volumes = np.zeros(void_num)\n",
    "cnt = 0\n",
    "# identify the volumes\n",
    "for key in TetraVoidsDict.keys():\n",
    "    try:\n",
    "        v_d = TetraVoidsDict[key].extract_void_coordinates(init_pos)\n",
    "        for key_v in v_d.keys():\n",
    "            hull = ConvexHull(v_d[key_v])\n",
    "            init_volumes[cnt]=hull.volume\n",
    "            cnt +=1\n",
    "    except:\n",
    "        pass\n",
    "# due to methods of initialization of the voids, \"init_volumes\"\n",
    "# contains pairs of the same volume (within precision, of course)\n",
    "# since each void is counted twice, therefore such doublets should\n",
    "# be removed\n",
    "init_volumes_non_degenerate = sparse_array_for_degeneracy(init_volumes,degeneracy_deg=2)"
   ]
  },
  {
   "cell_type": "code",
   "execution_count": 10,
   "metadata": {},
   "outputs": [
    {
     "name": "stdout",
     "output_type": "stream",
     "text": [
      "Volume of the tetrahedral voids is 2358.870105, volume of the relaxed cell is 2358.240000\n",
      "Volume of the original cell: 2358.240000, volume of the relaxed cell: 2358.240000\n"
     ]
    }
   ],
   "source": [
    "print ('Volume of the tetrahedral voids is %f, volume of the relaxed cell is %f' % (non_degenerate_volumes.sum(), contcar.get_volume()))\n",
    "print('Volume of the original cell: %f, volume of the relaxed cell: %f' % (poscar.get_volume(),contcar.get_volume()))"
   ]
  },
  {
   "cell_type": "code",
   "execution_count": 11,
   "metadata": {},
   "outputs": [
    {
     "name": "stdout",
     "output_type": "stream",
     "text": [
      "Original voids. Mean volume: 3.275333, average: 3.275333, std: 0.000000\n",
      "Voids in the relaxed structure. Mean volume: 3.276208, average: 3.276208, std: 0.368474\n"
     ]
    }
   ],
   "source": [
    "std = np.std(non_degenerate_volumes)\n",
    "mean = np.mean(non_degenerate_volumes)\n",
    "init_vol = np.mean(init_volumes_non_degenerate)\n",
    "print('Original voids. Mean volume: %f, average: %f, std: %f' % (np.mean(init_volumes_non_degenerate), \n",
    "                                                                 np.average(init_volumes_non_degenerate),np.std(init_volumes_non_degenerate)))\n",
    "print('Voids in the relaxed structure. Mean volume: %f, average: %f, std: %f' % (mean, np.average(non_degenerate_volumes), std))"
   ]
  },
  {
   "cell_type": "code",
   "execution_count": null,
   "metadata": {
    "collapsed": true
   },
   "outputs": [],
   "source": [
    "# Volumes of all the tetrahedral voids bein summarized must result \n",
    "# in the volume of the cell. As seen above, this is exactly the case.\n",
    "# Furthermore, the mean and average results must be exactly the same\n",
    "# for an ideal BCC structure. The standard deviation also should\n",
    "# be zero in this case since in the ideal structure volumes\n",
    "# of all the voids are the same."
   ]
  },
  {
   "cell_type": "code",
   "execution_count": 12,
   "metadata": {
    "collapsed": true,
    "scrolled": false
   },
   "outputs": [],
   "source": [
    "# make the KDE estimations\n",
    "kernel = 'gaussian'\n",
    "estimator = best_KDE_estimator_multivar(non_degenerate_volumes.reshape(-1,1), r_tolerance=1e-5)\n",
    "dat = np.linspace(min(non_degenerate_volumes)*0,max(non_degenerate_volumes)*1.5,num=200).reshape(-1,1)\n",
    "vals = np.exp(estimator.score_samples(dat))\n",
    "vals = vals / max(vals)"
   ]
  },
  {
   "cell_type": "code",
   "execution_count": 14,
   "metadata": {},
   "outputs": [
    {
     "data": {
      "text/plain": [
       "<matplotlib.lines.Line2D at 0x7f194beac9d0>"
      ]
     },
     "execution_count": 14,
     "metadata": {},
     "output_type": "execute_result"
    },
    {
     "data": {
      "image/png": "[encoded data removed]",
      "text/plain": [
       "<Figure size 504x504 with 1 Axes>"
      ]
     },
     "metadata": {
      "image/png": {
       "height": 431,
       "width": 442
      }
     },
     "output_type": "display_data"
    }
   ],
   "source": [
    "# set general parameters\n",
    "rc('font', **{'family': 'sans-serif', 'sans-serif': ['Helvetica']})\n",
    "rc('text', usetex=True)\n",
    "rc('axes', linewidth=1.75)\n",
    "mpl.rcParams['text.latex.preamble'] = [r'\\boldmath']\n",
    "\n",
    "tick_parameters_major = {\n",
    "            'which': 'major',\n",
    "            'direction': 'in',\n",
    "            'width': 1,\n",
    "            'length': 5.5,\n",
    "            'labelsize': 14\n",
    "        }\n",
    "\n",
    "tick_parameters_minor = {\n",
    "    'which': 'minor',\n",
    "    'direction': 'in',\n",
    "    'width': 1,\n",
    "    'length': 3,\n",
    "    'labelsize': 14\n",
    "}\n",
    "\n",
    "labels_params = {\n",
    "            'weight': 'bold',\n",
    "            'size': 14\n",
    "        }\n",
    "legend_params = {'loc': 'center', 'fontsize': 12}\n",
    "\n",
    "minor_ticks_num_x = 5\n",
    "minor_ticks_num_y = 5\n",
    "\n",
    "major_ticks_x = 7\n",
    "major_ticks_y = 5\n",
    "\n",
    "fig, ax = plt.subplots(1,1, figsize = (7,7))\n",
    "\n",
    "\n",
    "n, bins, patches = ax.hist(non_degenerate_volumes,bins=60,density=False)\n",
    "vals_scaled = vals * max(n)\n",
    "ax.plot(dat,vals_scaled, lw=2,c= 'r')\n",
    "ax.set_xlim(2,4.4)\n",
    "ax.set_xlabel(r'\\textbf{Volume (\\AA$^{3}$)}', **labels_params)\n",
    "ax.set_ylabel(r'\\textbf{Counts}',**labels_params)\n",
    "ax.grid()\n",
    "ax.minorticks_on()\n",
    "ax.xaxis.set_minor_locator(AutoMinorLocator(minor_ticks_num_x))\n",
    "ax.yaxis.set_minor_locator(AutoMinorLocator(minor_ticks_num_y))\n",
    "#ax.xaxis.set_major_locator(MaxNLocator(major_ticks_x))\n",
    "ax.yaxis.set_ticks_position('both')\n",
    "ax.xaxis.set_ticks_position('both')\n",
    "ax.tick_params('both', **tick_parameters_major)\n",
    "ax.tick_params('both', **tick_parameters_minor)\n",
    "ax.yaxis.set_major_locator(MaxNLocator(major_ticks_y))\n",
    "ax.axvline(init_vol, lw = 2, color = 'orange')"
   ]
  },
  {
   "cell_type": "code",
   "execution_count": null,
   "metadata": {
    "collapsed": true
   },
   "outputs": [],
   "source": [
    "fmt = 'pdf'\n",
    "figname = 'HIST_tetra_voids'  + '.' + fmt\n",
    "fig.savefig(figname, bbox_inches='tight', format=fmt, dpi=200)"
   ]
  }
 ],
 "metadata": {
  "kernelspec": {
   "display_name": "Python 2",
   "language": "python",
   "name": "python2"
  },
  "language_info": {
   "codemirror_mode": {
    "name": "ipython",
    "version": 2
   },
   "file_extension": ".py",
   "mimetype": "text/x-python",
   "name": "python",
   "nbconvert_exporter": "python",
   "pygments_lexer": "ipython2",
   "version": "2.7.12"
  }
 },
 "nbformat": 4,
 "nbformat_minor": 2
}
